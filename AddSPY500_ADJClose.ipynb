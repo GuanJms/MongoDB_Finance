{
 "cells": [
  {
   "cell_type": "code",
   "execution_count": 31,
   "id": "4edc7bbb",
   "metadata": {
    "scrolled": true
   },
   "outputs": [],
   "source": [
    "from pymongo import MongoClient\n",
    "import yfinance as yf\n",
    "from datetime import datetime\n",
    "import pandas as pd\n",
    "import time\n",
    "import numpy as np"
   ]
  },
  {
   "cell_type": "code",
   "execution_count": 40,
   "id": "fbd6119a",
   "metadata": {},
   "outputs": [],
   "source": [
    "client = MongoClient()\n",
    "db = client['dailySPY500']\n",
    "db.create_collection('AdjClose')\n",
    "coll = db['AdjClose']"
   ]
  },
  {
   "cell_type": "code",
   "execution_count": 41,
   "id": "db941885",
   "metadata": {},
   "outputs": [],
   "source": [
    "ticker_table = pd.read_html('https://en.wikipedia.org/wiki/List_of_S%26P_500_companies')[0]\n",
    "ticker_symbols = list(ticker_table['Symbol'])"
   ]
  },
  {
   "cell_type": "code",
   "execution_count": 42,
   "id": "5162c7a0",
   "metadata": {},
   "outputs": [
    {
     "name": "stdout",
     "output_type": "stream",
     "text": [
      "[*********************100%%**********************]  11 of 11 completed\n",
      "[*********************100%%**********************]  11 of 11 completed\n",
      "[*********************100%%**********************]  11 of 11 completed\n",
      "[*********************100%%**********************]  10 of 10 completed\n",
      "[*********************100%%**********************]  10 of 10 completed\n",
      "[*********************100%%**********************]  10 of 10 completed\n",
      "[*********************100%%**********************]  10 of 10 completed"
     ]
    },
    {
     "name": "stderr",
     "output_type": "stream",
     "text": [
      "\n",
      "1 Failed download:\n",
      "['BRK.B']: Exception('%ticker%: No timezone found, symbol may be delisted')\n"
     ]
    },
    {
     "name": "stdout",
     "output_type": "stream",
     "text": [
      "\n",
      "[*********************100%%**********************]  10 of 10 completed"
     ]
    },
    {
     "name": "stderr",
     "output_type": "stream",
     "text": [
      "\n",
      "1 Failed download:\n",
      "['BF.B']: Exception('%ticker%: No price data found, symbol may be delisted (1d 2015-01-01 00:00:00 -> 2023-10-09)')\n"
     ]
    },
    {
     "name": "stdout",
     "output_type": "stream",
     "text": [
      "\n",
      "[*********************100%%**********************]  10 of 10 completed\n",
      "[*********************100%%**********************]  10 of 10 completed\n",
      "[*********************100%%**********************]  10 of 10 completed\n",
      "[*********************100%%**********************]  10 of 10 completed\n",
      "[*********************100%%**********************]  10 of 10 completed\n",
      "[*********************100%%**********************]  10 of 10 completed\n",
      "[*********************100%%**********************]  10 of 10 completed\n",
      "[*********************100%%**********************]  10 of 10 completed\n",
      "[*********************100%%**********************]  10 of 10 completed\n",
      "[*********************100%%**********************]  10 of 10 completed\n",
      "[*********************100%%**********************]  10 of 10 completed\n",
      "[*********************100%%**********************]  10 of 10 completed\n",
      "[*********************100%%**********************]  10 of 10 completed\n",
      "[*********************100%%**********************]  10 of 10 completed\n",
      "[*********************100%%**********************]  10 of 10 completed\n",
      "[*********************100%%**********************]  10 of 10 completed\n",
      "[*********************100%%**********************]  10 of 10 completed\n",
      "[*********************100%%**********************]  10 of 10 completed\n",
      "[*********************100%%**********************]  10 of 10 completed\n",
      "[*********************100%%**********************]  10 of 10 completed\n",
      "[*********************100%%**********************]  10 of 10 completed\n",
      "[*********************100%%**********************]  10 of 10 completed\n",
      "[*********************100%%**********************]  10 of 10 completed\n",
      "[*********************100%%**********************]  10 of 10 completed\n",
      "[*********************100%%**********************]  10 of 10 completed\n",
      "[*********************100%%**********************]  10 of 10 completed\n",
      "[*********************100%%**********************]  10 of 10 completed\n",
      "[*********************100%%**********************]  10 of 10 completed\n",
      "[*********************100%%**********************]  10 of 10 completed\n",
      "[*********************100%%**********************]  10 of 10 completed\n",
      "[*********************100%%**********************]  10 of 10 completed\n",
      "[*********************100%%**********************]  10 of 10 completed\n",
      "[*********************100%%**********************]  10 of 10 completed\n",
      "[*********************100%%**********************]  10 of 10 completed\n",
      "[*********************100%%**********************]  10 of 10 completed\n",
      "[*********************100%%**********************]  10 of 10 completed\n",
      "[*********************100%%**********************]  10 of 10 completed\n",
      "[*********************100%%**********************]  10 of 10 completed\n",
      "[*********************100%%**********************]  10 of 10 completed\n",
      "[*********************100%%**********************]  10 of 10 completed\n",
      "[*********************100%%**********************]  10 of 10 completed\n",
      "[*********************100%%**********************]  10 of 10 completed\n"
     ]
    }
   ],
   "source": [
    "N = 10\n",
    "for patch in np.array_split(pd.array(ticker_symbols), len(ticker_symbols)/10):\n",
    "    tickers = list(patch)\n",
    "    data_daily = yf.download(tickers, start= datetime.strptime(\"2015-01-01\", \"%Y-%m-%d\"),interval='1d')\n",
    "    closes = data_daily['Adj Close']\n",
    "    closes = closes.reset_index()\n",
    "    dump_data = closes.melt(id_vars = 'Date',var_name='Symbol', value_name='Adj Close')\n",
    "    coll.insert_many(dump_data.to_dict('records'))\n",
    "    del data_daily\n",
    "    del closes\n",
    "    del dump_data"
   ]
  },
  {
   "cell_type": "code",
   "execution_count": 44,
   "id": "6406ad69",
   "metadata": {},
   "outputs": [],
   "source": [
    "# pd.DataFrame(list(coll.find()))"
   ]
  },
  {
   "cell_type": "code",
   "execution_count": 45,
   "id": "ebf6241f",
   "metadata": {},
   "outputs": [],
   "source": [
    "# x = coll.delete_many({})\n",
    "# print(x.deleted_count, \" documents deleted.\")"
   ]
  },
  {
   "cell_type": "code",
   "execution_count": null,
   "id": "5823809a",
   "metadata": {},
   "outputs": [],
   "source": []
  }
 ],
 "metadata": {
  "kernelspec": {
   "display_name": "Python 3 (ipykernel)",
   "language": "python",
   "name": "python3"
  },
  "language_info": {
   "codemirror_mode": {
    "name": "ipython",
    "version": 3
   },
   "file_extension": ".py",
   "mimetype": "text/x-python",
   "name": "python",
   "nbconvert_exporter": "python",
   "pygments_lexer": "ipython3",
   "version": "3.11.5"
  }
 },
 "nbformat": 4,
 "nbformat_minor": 5
}
